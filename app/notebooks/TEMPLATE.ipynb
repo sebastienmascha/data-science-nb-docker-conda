{
 "cells": [
  {
   "cell_type": "markdown",
   "metadata": {},
   "source": [
    "# Data Analysis - Lab \n",
    "### M. Sébastien MASCHA\n",
    "### Paris   |   2019-2020\n",
    "<br/>\n",
    "\n",
    "___\n",
    "\n",
    "# Project : \n",
    "*Description*\n",
    "\n",
    "### Import of libraries\n",
    "\n",
    "This document has been done using python3.7 on Jupyter Notebook with docker and conda.\n",
    "We will have uses of these librairies:\n",
    "\n",
    "- Maths for sqrt, pi, exp\n",
    "- Numpy to manipulate arrays\n",
    "- Pandas to import csv\n",
    "- Matplotlib to plot graphics\n",
    "- Seaborn to make your charts prettier (built on top of Matplotlib)\n",
    "- Scikit-Learn : tools for data mining and data analysis\n",
    "- SciPy : a Python-based ecosystem of open-source software for mathematics, science, and engineering. \n",
    "- TensorFlow : develop and train ML models"
   ]
  },
  {
   "cell_type": "code",
   "execution_count": 1,
   "metadata": {},
   "outputs": [
    {
     "name": "stdout",
     "output_type": "stream",
     "text": [
      "SciPy version : 1.3.1\n",
      "Scikit-Learn version : 0.21.3\n",
      "TensorFlow version : 2.0.0\n"
     ]
    }
   ],
   "source": [
    "# coding: utf-8\n",
    "\n",
    "import os, sys\n",
    "appPath = os.path.abspath(\"..\")\n",
    "if appPath not in sys.path:\n",
    "    sys.path.insert(0, appPath)\n",
    "    \n",
    "import data\n",
    "\n",
    "from math import sqrt,pi,exp\n",
    "import numpy as np\n",
    "import matplotlib.pyplot as plt\n",
    "import pandas as pd\n",
    "import seaborn as sns; sns.set()\n",
    "\n",
    "import scipy\n",
    "import sklearn\n",
    "import tensorflow\n",
    "\n",
    "print(\"SciPy version : \" + scipy.__version__)\n",
    "print(\"Scikit-Learn version : \" + sklearn.__version__)\n",
    "print(\"TensorFlow version : \" + tensorflow.__version__)"
   ]
  },
  {
   "cell_type": "code",
   "execution_count": null,
   "metadata": {},
   "outputs": [],
   "source": []
  }
 ],
 "metadata": {
  "kernelspec": {
   "display_name": "Python 3",
   "language": "python",
   "name": "python3"
  },
  "language_info": {
   "codemirror_mode": {
    "name": "ipython",
    "version": 3
   },
   "file_extension": ".py",
   "mimetype": "text/x-python",
   "name": "python",
   "nbconvert_exporter": "python",
   "pygments_lexer": "ipython3",
   "version": "3.7.4"
  }
 },
 "nbformat": 4,
 "nbformat_minor": 4
}
